{
 "cells": [
  {
   "cell_type": "code",
   "execution_count": 1,
   "metadata": {},
   "outputs": [],
   "source": [
    "import pandas as pd\n",
    "import numpy as np\n",
    "import datetime"
   ]
  },
  {
   "cell_type": "markdown",
   "metadata": {},
   "source": [
    "## 데이터 불러오기"
   ]
  },
  {
   "cell_type": "code",
   "execution_count": 5,
   "metadata": {},
   "outputs": [],
   "source": [
    "actual=pd.read_csv('C:/Users/sas/Desktop/big data analysis/actual.csv',encoding='UTF-8')"
   ]
  },
  {
   "cell_type": "code",
   "execution_count": 6,
   "metadata": {},
   "outputs": [],
   "source": [
    "MA = pd.read_csv('C:/Users/sas/Desktop/big data analysis/method/movingaverage.csv',encoding='UTF-8')\n",
    "RF=pd.read_csv('C:/Users/sas/Desktop/big data analysis/method/randomforest.csv',encoding='UTF-8')\n",
    "RBF=pd.read_csv('C:/Users/sas/Desktop/big data analysis/method/supportvectorregression_RBF_Kernel.csv',encoding='UTF-8')\n",
    "PROPHET = pd.read_csv('C:/Users/sas/Desktop/big data analysis/method/prophet.csv',encoding='UTF-8')\n",
    "LSTM = pd.read_csv('C:/Users/sas/Desktop/big data analysis/method/lstm.csv',encoding='cp949')"
   ]
  },
  {
   "cell_type": "markdown",
   "metadata": {},
   "source": [
    "## 실제 데이터에서 equally weighted porfolio"
   ]
  },
  {
   "cell_type": "code",
   "execution_count": 7,
   "metadata": {},
   "outputs": [],
   "source": [
    "actual['날짜']=pd.to_datetime(actual.날짜,format='%Y-%m-%d')\n",
    "actual = actual.set_index('날짜')"
   ]
  },
  {
   "cell_type": "code",
   "execution_count": 8,
   "metadata": {},
   "outputs": [],
   "source": [
    "w = [1/15, 1/15,1/15,1/15,1/15,1/15,1/15,1/15,1/15,1/15,1/15,1/15,1/15,1/15,1/15]"
   ]
  },
  {
   "cell_type": "code",
   "execution_count": 9,
   "metadata": {
    "scrolled": true
   },
   "outputs": [
    {
     "data": {
      "text/html": [
       "<div>\n",
       "<style scoped>\n",
       "    .dataframe tbody tr th:only-of-type {\n",
       "        vertical-align: middle;\n",
       "    }\n",
       "\n",
       "    .dataframe tbody tr th {\n",
       "        vertical-align: top;\n",
       "    }\n",
       "\n",
       "    .dataframe thead th {\n",
       "        text-align: right;\n",
       "    }\n",
       "</style>\n",
       "<table border=\"1\" class=\"dataframe\">\n",
       "  <thead>\n",
       "    <tr style=\"text-align: right;\">\n",
       "      <th></th>\n",
       "      <th>삼성전자</th>\n",
       "      <th>SK하이닉스</th>\n",
       "      <th>NAVER</th>\n",
       "      <th>씨젠</th>\n",
       "      <th>우리들휴브레인</th>\n",
       "      <th>현대차</th>\n",
       "      <th>DGB금융지주</th>\n",
       "      <th>미스터블루</th>\n",
       "      <th>셀트리온</th>\n",
       "      <th>데일리블록체인</th>\n",
       "      <th>소리바다</th>\n",
       "      <th>한화솔루션</th>\n",
       "      <th>아모레퍼시픽</th>\n",
       "      <th>CJ대한통운</th>\n",
       "      <th>GS건설</th>\n",
       "    </tr>\n",
       "    <tr>\n",
       "      <th>날짜</th>\n",
       "      <th></th>\n",
       "      <th></th>\n",
       "      <th></th>\n",
       "      <th></th>\n",
       "      <th></th>\n",
       "      <th></th>\n",
       "      <th></th>\n",
       "      <th></th>\n",
       "      <th></th>\n",
       "      <th></th>\n",
       "      <th></th>\n",
       "      <th></th>\n",
       "      <th></th>\n",
       "      <th></th>\n",
       "      <th></th>\n",
       "    </tr>\n",
       "  </thead>\n",
       "  <tbody>\n",
       "    <tr>\n",
       "      <th>2019-09-03</th>\n",
       "      <td>-0.012557</td>\n",
       "      <td>-0.007732</td>\n",
       "      <td>0.003333</td>\n",
       "      <td>-0.024719</td>\n",
       "      <td>0.020642</td>\n",
       "      <td>-0.019084</td>\n",
       "      <td>0.004373</td>\n",
       "      <td>0.051198</td>\n",
       "      <td>0.025559</td>\n",
       "      <td>0.001493</td>\n",
       "      <td>0.035088</td>\n",
       "      <td>0.008721</td>\n",
       "      <td>0.076046</td>\n",
       "      <td>-0.027397</td>\n",
       "      <td>0.000000</td>\n",
       "    </tr>\n",
       "    <tr>\n",
       "      <th>2019-09-04</th>\n",
       "      <td>0.019653</td>\n",
       "      <td>0.038961</td>\n",
       "      <td>0.003322</td>\n",
       "      <td>0.009217</td>\n",
       "      <td>-0.006742</td>\n",
       "      <td>0.000000</td>\n",
       "      <td>0.029028</td>\n",
       "      <td>0.004145</td>\n",
       "      <td>0.043614</td>\n",
       "      <td>0.020864</td>\n",
       "      <td>0.008475</td>\n",
       "      <td>0.002882</td>\n",
       "      <td>-0.017668</td>\n",
       "      <td>0.003521</td>\n",
       "      <td>-0.004702</td>\n",
       "    </tr>\n",
       "    <tr>\n",
       "      <th>2019-09-05</th>\n",
       "      <td>0.036281</td>\n",
       "      <td>0.037500</td>\n",
       "      <td>-0.026490</td>\n",
       "      <td>-0.002283</td>\n",
       "      <td>0.045249</td>\n",
       "      <td>-0.003891</td>\n",
       "      <td>0.012694</td>\n",
       "      <td>-0.037152</td>\n",
       "      <td>-0.020896</td>\n",
       "      <td>-0.001460</td>\n",
       "      <td>0.066026</td>\n",
       "      <td>0.028736</td>\n",
       "      <td>0.014388</td>\n",
       "      <td>-0.017544</td>\n",
       "      <td>0.017323</td>\n",
       "    </tr>\n",
       "    <tr>\n",
       "      <th>2019-09-06</th>\n",
       "      <td>0.013129</td>\n",
       "      <td>-0.013253</td>\n",
       "      <td>0.017007</td>\n",
       "      <td>-0.011442</td>\n",
       "      <td>0.000000</td>\n",
       "      <td>-0.003906</td>\n",
       "      <td>-0.008357</td>\n",
       "      <td>-0.056806</td>\n",
       "      <td>0.009146</td>\n",
       "      <td>-0.016082</td>\n",
       "      <td>0.016892</td>\n",
       "      <td>-0.008380</td>\n",
       "      <td>-0.031915</td>\n",
       "      <td>-0.025000</td>\n",
       "      <td>-0.007740</td>\n",
       "    </tr>\n",
       "    <tr>\n",
       "      <th>2019-09-09</th>\n",
       "      <td>0.012959</td>\n",
       "      <td>0.029304</td>\n",
       "      <td>0.023411</td>\n",
       "      <td>-0.030093</td>\n",
       "      <td>0.041126</td>\n",
       "      <td>-0.003922</td>\n",
       "      <td>0.000000</td>\n",
       "      <td>-0.101136</td>\n",
       "      <td>0.003021</td>\n",
       "      <td>-0.034175</td>\n",
       "      <td>-0.008859</td>\n",
       "      <td>0.022535</td>\n",
       "      <td>0.021978</td>\n",
       "      <td>-0.007326</td>\n",
       "      <td>0.021841</td>\n",
       "    </tr>\n",
       "    <tr>\n",
       "      <th>...</th>\n",
       "      <td>...</td>\n",
       "      <td>...</td>\n",
       "      <td>...</td>\n",
       "      <td>...</td>\n",
       "      <td>...</td>\n",
       "      <td>...</td>\n",
       "      <td>...</td>\n",
       "      <td>...</td>\n",
       "      <td>...</td>\n",
       "      <td>...</td>\n",
       "      <td>...</td>\n",
       "      <td>...</td>\n",
       "      <td>...</td>\n",
       "      <td>...</td>\n",
       "      <td>...</td>\n",
       "    </tr>\n",
       "    <tr>\n",
       "      <th>2019-12-23</th>\n",
       "      <td>-0.008929</td>\n",
       "      <td>-0.004211</td>\n",
       "      <td>0.002725</td>\n",
       "      <td>0.008489</td>\n",
       "      <td>0.050955</td>\n",
       "      <td>-0.012097</td>\n",
       "      <td>0.004060</td>\n",
       "      <td>-0.034395</td>\n",
       "      <td>0.024725</td>\n",
       "      <td>-0.002090</td>\n",
       "      <td>-0.002849</td>\n",
       "      <td>-0.007812</td>\n",
       "      <td>-0.024814</td>\n",
       "      <td>-0.013029</td>\n",
       "      <td>0.004724</td>\n",
       "    </tr>\n",
       "    <tr>\n",
       "      <th>2019-12-24</th>\n",
       "      <td>-0.009009</td>\n",
       "      <td>-0.008457</td>\n",
       "      <td>-0.010870</td>\n",
       "      <td>0.020202</td>\n",
       "      <td>-0.034848</td>\n",
       "      <td>-0.004082</td>\n",
       "      <td>-0.004043</td>\n",
       "      <td>-0.062005</td>\n",
       "      <td>-0.008043</td>\n",
       "      <td>-0.026178</td>\n",
       "      <td>-0.025714</td>\n",
       "      <td>-0.010499</td>\n",
       "      <td>0.007634</td>\n",
       "      <td>-0.009901</td>\n",
       "      <td>-0.007837</td>\n",
       "    </tr>\n",
       "    <tr>\n",
       "      <th>2019-12-26</th>\n",
       "      <td>0.007273</td>\n",
       "      <td>0.010661</td>\n",
       "      <td>-0.008242</td>\n",
       "      <td>0.000000</td>\n",
       "      <td>0.012559</td>\n",
       "      <td>0.004098</td>\n",
       "      <td>0.009472</td>\n",
       "      <td>0.007032</td>\n",
       "      <td>0.024324</td>\n",
       "      <td>0.010753</td>\n",
       "      <td>0.027859</td>\n",
       "      <td>0.000000</td>\n",
       "      <td>-0.007576</td>\n",
       "      <td>0.000000</td>\n",
       "      <td>0.007899</td>\n",
       "    </tr>\n",
       "    <tr>\n",
       "      <th>2019-12-27</th>\n",
       "      <td>0.019856</td>\n",
       "      <td>0.012658</td>\n",
       "      <td>0.016620</td>\n",
       "      <td>0.011551</td>\n",
       "      <td>0.035659</td>\n",
       "      <td>-0.016327</td>\n",
       "      <td>-0.041555</td>\n",
       "      <td>0.020950</td>\n",
       "      <td>-0.029024</td>\n",
       "      <td>-0.010638</td>\n",
       "      <td>-0.001427</td>\n",
       "      <td>0.000000</td>\n",
       "      <td>-0.007634</td>\n",
       "      <td>0.030000</td>\n",
       "      <td>-0.031348</td>\n",
       "    </tr>\n",
       "    <tr>\n",
       "      <th>2019-12-30</th>\n",
       "      <td>-0.012389</td>\n",
       "      <td>-0.019792</td>\n",
       "      <td>0.016349</td>\n",
       "      <td>0.000000</td>\n",
       "      <td>0.067365</td>\n",
       "      <td>0.000000</td>\n",
       "      <td>-0.004196</td>\n",
       "      <td>-0.001368</td>\n",
       "      <td>-0.016304</td>\n",
       "      <td>-0.051613</td>\n",
       "      <td>0.060000</td>\n",
       "      <td>0.000000</td>\n",
       "      <td>0.025641</td>\n",
       "      <td>0.003236</td>\n",
       "      <td>0.004854</td>\n",
       "    </tr>\n",
       "  </tbody>\n",
       "</table>\n",
       "<p>80 rows × 15 columns</p>\n",
       "</div>"
      ],
      "text/plain": [
       "                삼성전자    SK하이닉스     NAVER        씨젠   우리들휴브레인       현대차  \\\n",
       "날짜                                                                       \n",
       "2019-09-03 -0.012557 -0.007732  0.003333 -0.024719  0.020642 -0.019084   \n",
       "2019-09-04  0.019653  0.038961  0.003322  0.009217 -0.006742  0.000000   \n",
       "2019-09-05  0.036281  0.037500 -0.026490 -0.002283  0.045249 -0.003891   \n",
       "2019-09-06  0.013129 -0.013253  0.017007 -0.011442  0.000000 -0.003906   \n",
       "2019-09-09  0.012959  0.029304  0.023411 -0.030093  0.041126 -0.003922   \n",
       "...              ...       ...       ...       ...       ...       ...   \n",
       "2019-12-23 -0.008929 -0.004211  0.002725  0.008489  0.050955 -0.012097   \n",
       "2019-12-24 -0.009009 -0.008457 -0.010870  0.020202 -0.034848 -0.004082   \n",
       "2019-12-26  0.007273  0.010661 -0.008242  0.000000  0.012559  0.004098   \n",
       "2019-12-27  0.019856  0.012658  0.016620  0.011551  0.035659 -0.016327   \n",
       "2019-12-30 -0.012389 -0.019792  0.016349  0.000000  0.067365  0.000000   \n",
       "\n",
       "             DGB금융지주     미스터블루      셀트리온   데일리블록체인      소리바다     한화솔루션  \\\n",
       "날짜                                                                       \n",
       "2019-09-03  0.004373  0.051198  0.025559  0.001493  0.035088  0.008721   \n",
       "2019-09-04  0.029028  0.004145  0.043614  0.020864  0.008475  0.002882   \n",
       "2019-09-05  0.012694 -0.037152 -0.020896 -0.001460  0.066026  0.028736   \n",
       "2019-09-06 -0.008357 -0.056806  0.009146 -0.016082  0.016892 -0.008380   \n",
       "2019-09-09  0.000000 -0.101136  0.003021 -0.034175 -0.008859  0.022535   \n",
       "...              ...       ...       ...       ...       ...       ...   \n",
       "2019-12-23  0.004060 -0.034395  0.024725 -0.002090 -0.002849 -0.007812   \n",
       "2019-12-24 -0.004043 -0.062005 -0.008043 -0.026178 -0.025714 -0.010499   \n",
       "2019-12-26  0.009472  0.007032  0.024324  0.010753  0.027859  0.000000   \n",
       "2019-12-27 -0.041555  0.020950 -0.029024 -0.010638 -0.001427  0.000000   \n",
       "2019-12-30 -0.004196 -0.001368 -0.016304 -0.051613  0.060000  0.000000   \n",
       "\n",
       "              아모레퍼시픽    CJ대한통운      GS건설  \n",
       "날짜                                        \n",
       "2019-09-03  0.076046 -0.027397  0.000000  \n",
       "2019-09-04 -0.017668  0.003521 -0.004702  \n",
       "2019-09-05  0.014388 -0.017544  0.017323  \n",
       "2019-09-06 -0.031915 -0.025000 -0.007740  \n",
       "2019-09-09  0.021978 -0.007326  0.021841  \n",
       "...              ...       ...       ...  \n",
       "2019-12-23 -0.024814 -0.013029  0.004724  \n",
       "2019-12-24  0.007634 -0.009901 -0.007837  \n",
       "2019-12-26 -0.007576  0.000000  0.007899  \n",
       "2019-12-27 -0.007634  0.030000 -0.031348  \n",
       "2019-12-30  0.025641  0.003236  0.004854  \n",
       "\n",
       "[80 rows x 15 columns]"
      ]
     },
     "execution_count": 9,
     "metadata": {},
     "output_type": "execute_result"
    }
   ],
   "source": [
    "ret_data = actual.pct_change()[1:]\n",
    "ret_data"
   ]
  },
  {
   "cell_type": "code",
   "execution_count": null,
   "metadata": {},
   "outputs": [],
   "source": [
    "weighted_returns = (w * ret_data)\n",
    "port_ret = weighted_returns.sum(axis=1)"
   ]
  },
  {
   "cell_type": "code",
   "execution_count": 11,
   "metadata": {},
   "outputs": [],
   "source": [
    "act_mean_ret = port_ret.mean()\n",
    "act_std_returns = port_ret.std()"
   ]
  },
  {
   "cell_type": "code",
   "execution_count": 15,
   "metadata": {},
   "outputs": [
    {
     "data": {
      "text/plain": [
       "0.0022213639714073617"
      ]
     },
     "execution_count": 15,
     "metadata": {},
     "output_type": "execute_result"
    }
   ],
   "source": [
    "act_mean_ret"
   ]
  },
  {
   "cell_type": "code",
   "execution_count": 20,
   "metadata": {},
   "outputs": [
    {
     "data": {
      "text/plain": [
       "0.7492076226020636"
      ]
     },
     "execution_count": 20,
     "metadata": {},
     "output_type": "execute_result"
    }
   ],
   "source": [
    "annualized_return = (act_mean_ret+1)**252 -1\n",
    "annualized_return"
   ]
  },
  {
   "cell_type": "code",
   "execution_count": 22,
   "metadata": {},
   "outputs": [
    {
     "data": {
      "text/plain": [
       "0.010206941262003964"
      ]
     },
     "execution_count": 22,
     "metadata": {},
     "output_type": "execute_result"
    }
   ],
   "source": [
    "act_std_returns "
   ]
  },
  {
   "cell_type": "code",
   "execution_count": 26,
   "metadata": {},
   "outputs": [
    {
     "data": {
      "text/plain": [
       "0.16203016935543754"
      ]
     },
     "execution_count": 26,
     "metadata": {},
     "output_type": "execute_result"
    }
   ],
   "source": [
    "annualized_vol = act_std_returns*(252**0.5)\n",
    "annualized_vol"
   ]
  },
  {
   "cell_type": "markdown",
   "metadata": {},
   "source": [
    "## MA"
   ]
  },
  {
   "cell_type": "code",
   "execution_count": 11,
   "metadata": {},
   "outputs": [],
   "source": [
    "w = [1/15, 1/15,1/15,1/15,1/15,1/15,1/15,1/15,1/15,1/15,1/15,1/15,1/15,1/15,1/15]"
   ]
  },
  {
   "cell_type": "code",
   "execution_count": 32,
   "metadata": {},
   "outputs": [
    {
     "data": {
      "text/html": [
       "<div>\n",
       "<style scoped>\n",
       "    .dataframe tbody tr th:only-of-type {\n",
       "        vertical-align: middle;\n",
       "    }\n",
       "\n",
       "    .dataframe tbody tr th {\n",
       "        vertical-align: top;\n",
       "    }\n",
       "\n",
       "    .dataframe thead th {\n",
       "        text-align: right;\n",
       "    }\n",
       "</style>\n",
       "<table border=\"1\" class=\"dataframe\">\n",
       "  <thead>\n",
       "    <tr style=\"text-align: right;\">\n",
       "      <th></th>\n",
       "      <th>삼성전자</th>\n",
       "      <th>SK하이닉스</th>\n",
       "      <th>NAVER</th>\n",
       "      <th>씨젠</th>\n",
       "      <th>우리들휴브레인</th>\n",
       "      <th>현대차</th>\n",
       "      <th>DGB금융지주</th>\n",
       "      <th>미스터블루</th>\n",
       "      <th>셀트리온</th>\n",
       "      <th>데일리블록체인</th>\n",
       "      <th>소리바다</th>\n",
       "      <th>한화솔루션</th>\n",
       "      <th>아모레퍼시픽</th>\n",
       "      <th>CJ대한통운</th>\n",
       "      <th>GS건설</th>\n",
       "    </tr>\n",
       "  </thead>\n",
       "  <tbody>\n",
       "    <tr>\n",
       "      <th>0</th>\n",
       "      <td>44492.073171</td>\n",
       "      <td>71851.219512</td>\n",
       "      <td>124158.536585</td>\n",
       "      <td>24896.951220</td>\n",
       "      <td>2246.951220</td>\n",
       "      <td>133378.048780</td>\n",
       "      <td>7789.268293</td>\n",
       "      <td>5371.036585</td>\n",
       "      <td>184121.951220</td>\n",
       "      <td>1021.439024</td>\n",
       "      <td>1058.158537</td>\n",
       "      <td>20303.048780</td>\n",
       "      <td>161164.634146</td>\n",
       "      <td>143896.341463</td>\n",
       "      <td>36849.390244</td>\n",
       "    </tr>\n",
       "    <tr>\n",
       "      <th>1</th>\n",
       "      <td>44487.708209</td>\n",
       "      <td>71753.063653</td>\n",
       "      <td>124160.469958</td>\n",
       "      <td>24904.231112</td>\n",
       "      <td>2242.523795</td>\n",
       "      <td>133346.073766</td>\n",
       "      <td>7778.283760</td>\n",
       "      <td>5401.537032</td>\n",
       "      <td>183861.243308</td>\n",
       "      <td>1015.054134</td>\n",
       "      <td>1056.977543</td>\n",
       "      <td>20303.695717</td>\n",
       "      <td>160544.690660</td>\n",
       "      <td>143681.662701</td>\n",
       "      <td>36809.748662</td>\n",
       "    </tr>\n",
       "    <tr>\n",
       "      <th>2</th>\n",
       "      <td>44490.607090</td>\n",
       "      <td>71648.832722</td>\n",
       "      <td>124168.524470</td>\n",
       "      <td>24917.087589</td>\n",
       "      <td>2238.408232</td>\n",
       "      <td>133319.806373</td>\n",
       "      <td>7767.165269</td>\n",
       "      <td>5432.409434</td>\n",
       "      <td>183597.356031</td>\n",
       "      <td>1009.079185</td>\n",
       "      <td>1055.843123</td>\n",
       "      <td>20297.643226</td>\n",
       "      <td>159947.674693</td>\n",
       "      <td>143482.658587</td>\n",
       "      <td>36767.184621</td>\n",
       "    </tr>\n",
       "    <tr>\n",
       "      <th>3</th>\n",
       "      <td>44515.492542</td>\n",
       "      <td>71595.769706</td>\n",
       "      <td>124231.555256</td>\n",
       "      <td>24944.125243</td>\n",
       "      <td>2235.218088</td>\n",
       "      <td>133348.096694</td>\n",
       "      <td>7755.911187</td>\n",
       "      <td>5464.999793</td>\n",
       "      <td>183275.372568</td>\n",
       "      <td>1004.677712</td>\n",
       "      <td>1055.121698</td>\n",
       "      <td>20289.687655</td>\n",
       "      <td>159434.841457</td>\n",
       "      <td>143336.105643</td>\n",
       "      <td>36747.272238</td>\n",
       "    </tr>\n",
       "    <tr>\n",
       "      <th>4</th>\n",
       "      <td>44535.193671</td>\n",
       "      <td>71561.571776</td>\n",
       "      <td>124252.671784</td>\n",
       "      <td>24971.492624</td>\n",
       "      <td>2231.684163</td>\n",
       "      <td>133388.927142</td>\n",
       "      <td>7746.471079</td>\n",
       "      <td>5498.353449</td>\n",
       "      <td>183053.121014</td>\n",
       "      <td>1000.405488</td>\n",
       "      <td>1054.513426</td>\n",
       "      <td>20279.805797</td>\n",
       "      <td>158897.461475</td>\n",
       "      <td>143181.667907</td>\n",
       "      <td>36731.385314</td>\n",
       "    </tr>\n",
       "  </tbody>\n",
       "</table>\n",
       "</div>"
      ],
      "text/plain": [
       "           삼성전자        SK하이닉스          NAVER            씨젠      우리들휴브레인  \\\n",
       "0  44492.073171  71851.219512  124158.536585  24896.951220  2246.951220   \n",
       "1  44487.708209  71753.063653  124160.469958  24904.231112  2242.523795   \n",
       "2  44490.607090  71648.832722  124168.524470  24917.087589  2238.408232   \n",
       "3  44515.492542  71595.769706  124231.555256  24944.125243  2235.218088   \n",
       "4  44535.193671  71561.571776  124252.671784  24971.492624  2231.684163   \n",
       "\n",
       "             현대차      DGB금융지주        미스터블루           셀트리온      데일리블록체인  \\\n",
       "0  133378.048780  7789.268293  5371.036585  184121.951220  1021.439024   \n",
       "1  133346.073766  7778.283760  5401.537032  183861.243308  1015.054134   \n",
       "2  133319.806373  7767.165269  5432.409434  183597.356031  1009.079185   \n",
       "3  133348.096694  7755.911187  5464.999793  183275.372568  1004.677712   \n",
       "4  133388.927142  7746.471079  5498.353449  183053.121014  1000.405488   \n",
       "\n",
       "          소리바다         한화솔루션         아모레퍼시픽         CJ대한통운          GS건설  \n",
       "0  1058.158537  20303.048780  161164.634146  143896.341463  36849.390244  \n",
       "1  1056.977543  20303.695717  160544.690660  143681.662701  36809.748662  \n",
       "2  1055.843123  20297.643226  159947.674693  143482.658587  36767.184621  \n",
       "3  1055.121698  20289.687655  159434.841457  143336.105643  36747.272238  \n",
       "4  1054.513426  20279.805797  158897.461475  143181.667907  36731.385314  "
      ]
     },
     "execution_count": 32,
     "metadata": {},
     "output_type": "execute_result"
    }
   ],
   "source": [
    "MA.head()"
   ]
  },
  {
   "cell_type": "code",
   "execution_count": 34,
   "metadata": {},
   "outputs": [
    {
     "name": "stdout",
     "output_type": "stream",
     "text": [
      "0.0005755644397522649 0.009136802226460268\n"
     ]
    }
   ],
   "source": [
    "ret_data = MA.pct_change()[1:]\n",
    "\n",
    "weighted_returns = (w * ret_data)\n",
    "port_ret = weighted_returns.sum(axis=1)\n",
    "\n",
    "ma_mean_ret = port_ret.mean()\n",
    "ma_annualized_return = (ma_mean_ret+1)**252 -1\n",
    "\n",
    "ma_std_returns = port_ret.std()\n",
    "ma_annualized_vol = ma_std_returns*(252**0.5)\n",
    "\n",
    "print(ma_std_returns, ma_annualized_vol)"
   ]
  },
  {
   "cell_type": "markdown",
   "metadata": {},
   "source": [
    "## RBF"
   ]
  },
  {
   "cell_type": "code",
   "execution_count": 31,
   "metadata": {},
   "outputs": [],
   "source": [
    "w = [1/15, 1/15,1/15,1/15,1/15,1/15,1/15,1/15,1/15,1/15,1/15,1/15,1/15,1/15,1/15]"
   ]
  },
  {
   "cell_type": "code",
   "execution_count": 35,
   "metadata": {},
   "outputs": [],
   "source": [
    "ret_data = RBF.pct_change()[1:]\n",
    "\n",
    "weighted_returns = (w * ret_data)\n",
    "port_ret = weighted_returns.sum(axis=1)\n",
    "\n",
    "rbf_mean_ret = port_ret.mean()\n",
    "rbf_annualized_return = (rbf_mean_ret+1)**252 -1\n",
    "\n",
    "rbf_std_returns = port_ret.std()\n",
    "rbf_annualized_vol = rbf_std_returns*(252**0.5)"
   ]
  },
  {
   "cell_type": "code",
   "execution_count": 36,
   "metadata": {},
   "outputs": [
    {
     "data": {
      "text/plain": [
       "0.16957049700783156"
      ]
     },
     "execution_count": 36,
     "metadata": {},
     "output_type": "execute_result"
    }
   ],
   "source": [
    "rbf_annualized_return"
   ]
  },
  {
   "cell_type": "code",
   "execution_count": 37,
   "metadata": {},
   "outputs": [
    {
     "data": {
      "text/plain": [
       "0.006380964503111181"
      ]
     },
     "execution_count": 37,
     "metadata": {},
     "output_type": "execute_result"
    }
   ],
   "source": [
    "rbf_annualized_vol"
   ]
  },
  {
   "cell_type": "markdown",
   "metadata": {},
   "source": [
    "## Prophet"
   ]
  },
  {
   "cell_type": "code",
   "execution_count": 38,
   "metadata": {},
   "outputs": [],
   "source": [
    "ret_data = PROPHET.pct_change()[1:]\n",
    "\n",
    "weighted_returns = (w * ret_data)\n",
    "port_ret = weighted_returns.sum(axis=1)\n",
    "\n",
    "PROPHET_mean_ret = port_ret.mean()\n",
    "PROPHET_annualized_return = (PROPHET_mean_ret+1)**252 -1\n",
    "\n",
    "PROPHET_std_returns = port_ret.std()\n",
    "PROPHET_annualized_vol = PROPHET_std_returns*(252**0.5)"
   ]
  },
  {
   "cell_type": "code",
   "execution_count": 39,
   "metadata": {},
   "outputs": [
    {
     "data": {
      "text/plain": [
       "-0.05113558297006582"
      ]
     },
     "execution_count": 39,
     "metadata": {},
     "output_type": "execute_result"
    }
   ],
   "source": [
    "PROPHET_annualized_return"
   ]
  },
  {
   "cell_type": "code",
   "execution_count": 40,
   "metadata": {},
   "outputs": [
    {
     "data": {
      "text/plain": [
       "0.009136802226460268"
      ]
     },
     "execution_count": 40,
     "metadata": {},
     "output_type": "execute_result"
    }
   ],
   "source": [
    "PROPHET_annualized_vol"
   ]
  },
  {
   "cell_type": "markdown",
   "metadata": {},
   "source": [
    "## LSTM"
   ]
  },
  {
   "cell_type": "code",
   "execution_count": 41,
   "metadata": {},
   "outputs": [],
   "source": [
    "ret_data = LSTM.pct_change()[1:]\n",
    "\n",
    "weighted_returns = (w * ret_data)\n",
    "port_ret = weighted_returns.sum(axis=1)\n",
    "\n",
    "LSTM_mean_ret = port_ret.mean()\n",
    "LSTM_annualized_return = (LSTM_mean_ret+1)**252 -1\n",
    "\n",
    "LSTM_std_returns = port_ret.std()\n",
    "LSTM_annualized_vol = LSTM_std_returns*(252**0.5)"
   ]
  },
  {
   "cell_type": "code",
   "execution_count": 42,
   "metadata": {},
   "outputs": [
    {
     "data": {
      "text/plain": [
       "0.7857061750928915"
      ]
     },
     "execution_count": 42,
     "metadata": {},
     "output_type": "execute_result"
    }
   ],
   "source": [
    "LSTM_annualized_return"
   ]
  },
  {
   "cell_type": "code",
   "execution_count": 43,
   "metadata": {},
   "outputs": [
    {
     "data": {
      "text/plain": [
       "0.12681208123792118"
      ]
     },
     "execution_count": 43,
     "metadata": {},
     "output_type": "execute_result"
    }
   ],
   "source": [
    "LSTM_annualized_vol "
   ]
  },
  {
   "cell_type": "markdown",
   "metadata": {},
   "source": [
    "---"
   ]
  },
  {
   "cell_type": "code",
   "execution_count": 44,
   "metadata": {},
   "outputs": [],
   "source": [
    "my_dict = {\"return\" :[annualized_return, ma_annualized_return, rbf_annualized_return,\n",
    "                     PROPHET_annualized_return, LSTM_annualized_return], \n",
    "           \"volatility\" : [annualized_vol ,ma_annualized_vol ,rbf_annualized_vol , PROPHET_annualized_vol ,LSTM_annualized_vol  ]}\n",
    "ewp = pd.DataFrame(my_dict)\n",
    "ewp.index = [\"Actual\",\"Moving Average\", \"RBF\", \"PROPHET\", \"LSTM\"] "
   ]
  },
  {
   "cell_type": "code",
   "execution_count": 45,
   "metadata": {},
   "outputs": [
    {
     "data": {
      "text/html": [
       "<div>\n",
       "<style scoped>\n",
       "    .dataframe tbody tr th:only-of-type {\n",
       "        vertical-align: middle;\n",
       "    }\n",
       "\n",
       "    .dataframe tbody tr th {\n",
       "        vertical-align: top;\n",
       "    }\n",
       "\n",
       "    .dataframe thead th {\n",
       "        text-align: right;\n",
       "    }\n",
       "</style>\n",
       "<table border=\"1\" class=\"dataframe\">\n",
       "  <thead>\n",
       "    <tr style=\"text-align: right;\">\n",
       "      <th></th>\n",
       "      <th>return</th>\n",
       "      <th>volatility</th>\n",
       "    </tr>\n",
       "  </thead>\n",
       "  <tbody>\n",
       "    <tr>\n",
       "      <th>Actual</th>\n",
       "      <td>0.749208</td>\n",
       "      <td>0.162030</td>\n",
       "    </tr>\n",
       "    <tr>\n",
       "      <th>Moving Average</th>\n",
       "      <td>-0.051136</td>\n",
       "      <td>0.009137</td>\n",
       "    </tr>\n",
       "    <tr>\n",
       "      <th>RBF</th>\n",
       "      <td>0.169570</td>\n",
       "      <td>0.006381</td>\n",
       "    </tr>\n",
       "    <tr>\n",
       "      <th>PROPHET</th>\n",
       "      <td>-0.051136</td>\n",
       "      <td>0.009137</td>\n",
       "    </tr>\n",
       "    <tr>\n",
       "      <th>LSTM</th>\n",
       "      <td>0.785706</td>\n",
       "      <td>0.126812</td>\n",
       "    </tr>\n",
       "  </tbody>\n",
       "</table>\n",
       "</div>"
      ],
      "text/plain": [
       "                  return  volatility\n",
       "Actual          0.749208    0.162030\n",
       "Moving Average -0.051136    0.009137\n",
       "RBF             0.169570    0.006381\n",
       "PROPHET        -0.051136    0.009137\n",
       "LSTM            0.785706    0.126812"
      ]
     },
     "execution_count": 45,
     "metadata": {},
     "output_type": "execute_result"
    }
   ],
   "source": [
    "ewp"
   ]
  },
  {
   "cell_type": "code",
   "execution_count": null,
   "metadata": {},
   "outputs": [],
   "source": []
  }
 ],
 "metadata": {
  "kernelspec": {
   "display_name": "Python 3",
   "language": "python",
   "name": "python3"
  },
  "language_info": {
   "codemirror_mode": {
    "name": "ipython",
    "version": 3
   },
   "file_extension": ".py",
   "mimetype": "text/x-python",
   "name": "python",
   "nbconvert_exporter": "python",
   "pygments_lexer": "ipython3",
   "version": "3.7.7"
  }
 },
 "nbformat": 4,
 "nbformat_minor": 4
}
